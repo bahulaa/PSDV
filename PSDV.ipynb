{
  "nbformat": 4,
  "nbformat_minor": 0,
  "metadata": {
    "colab": {
      "provenance": []
    },
    "kernelspec": {
      "name": "python3",
      "display_name": "Python 3"
    },
    "language_info": {
      "name": "python"
    }
  },
  "cells": [
    {
      "cell_type": "code",
      "source": [
        "n=list(range(1,21))\n",
        "a=[]\n",
        "b=[]\n",
        "c=[]\n",
        "for i in range(len(n)):\n",
        "  if n[i]%2==0:\n",
        "    a.append(n[i])\n",
        "print(sum(a))\n",
        "for i in range(len(a)):\n",
        "  if a[i]%2==0:\n",
        "    b.append(a[i])\n",
        "print(b)\n",
        "m=sum(b)/len(b)\n",
        "print(m)\n",
        "if len(b)%2==0:\n",
        "  median=(b[int(len(b)/2)]+b[int(len(b)/2)-1])/2\n",
        "else:\n",
        "  median=b[int(len(b)/2)]\n",
        "print(median)\n",
        "for i in range(len(a)):\n",
        "  x=(a[i]-m)**2\n",
        "  c.append(x)\n",
        "\n",
        "y=int(sum(c))/len(n)\n",
        "z=y**0.5\n",
        "print(z)\n",
        "\n",
        "\n",
        "\n",
        "\n",
        "\n",
        "\n"
      ],
      "metadata": {
        "id": "l0e127_hy9VS",
        "outputId": "55b0eb2e-afc9-447c-b639-c335f608b431",
        "colab": {
          "base_uri": "https://localhost:8080/"
        }
      },
      "execution_count": 56,
      "outputs": [
        {
          "output_type": "stream",
          "name": "stdout",
          "text": [
            "110\n",
            "[2, 4, 6, 8, 10, 12, 14, 16, 18, 20]\n",
            "11.0\n",
            "11.0\n",
            "4.06201920231798\n"
          ]
        }
      ]
    },
    {
      "cell_type": "code",
      "source": [
        "n = int(input())\n",
        "l = []\n",
        "for i in range(n):\n",
        "    c = int(input())\n",
        "    l.append(c)\n",
        "max_value = max(l)\n",
        "min_value = min(l)\n",
        "k=[(i-max_value)/(max_value-min_value) for i in l]\n",
        "print(k)\n",
        "import matplotlib.pyplot as plt\n",
        "plt.plot(l)\n",
        "plt.xlabel(\"n\")\n",
        "plt.ylabel(\"f\")\n",
        "plt.show()"
      ],
      "metadata": {
        "colab": {
          "base_uri": "https://localhost:8080/",
          "height": 263
        },
        "id": "6wpOcu-KC89b",
        "outputId": "196f9aeb-889c-496b-b9f7-0604f1cecbda"
      },
      "execution_count": 101,
      "outputs": [
        {
          "name": "stdout",
          "output_type": "stream",
          "text": [
            "2\n",
            "1\n",
            "3\n"
          ]
        },
        {
          "output_type": "error",
          "ename": "TypeError",
          "evalue": "'int' object is not callable",
          "traceback": [
            "\u001b[0;31m---------------------------------------------------------------------------\u001b[0m",
            "\u001b[0;31mTypeError\u001b[0m                                 Traceback (most recent call last)",
            "\u001b[0;32m<ipython-input-101-b15e3742f328>\u001b[0m in \u001b[0;36m<cell line: 6>\u001b[0;34m()\u001b[0m\n\u001b[1;32m      4\u001b[0m     \u001b[0mc\u001b[0m \u001b[0;34m=\u001b[0m \u001b[0mint\u001b[0m\u001b[0;34m(\u001b[0m\u001b[0minput\u001b[0m\u001b[0;34m(\u001b[0m\u001b[0;34m)\u001b[0m\u001b[0;34m)\u001b[0m\u001b[0;34m\u001b[0m\u001b[0;34m\u001b[0m\u001b[0m\n\u001b[1;32m      5\u001b[0m     \u001b[0ml\u001b[0m\u001b[0;34m.\u001b[0m\u001b[0mappend\u001b[0m\u001b[0;34m(\u001b[0m\u001b[0mc\u001b[0m\u001b[0;34m)\u001b[0m\u001b[0;34m\u001b[0m\u001b[0;34m\u001b[0m\u001b[0m\n\u001b[0;32m----> 6\u001b[0;31m \u001b[0mmax_value\u001b[0m \u001b[0;34m=\u001b[0m \u001b[0mmax\u001b[0m\u001b[0;34m(\u001b[0m\u001b[0ml\u001b[0m\u001b[0;34m)\u001b[0m\u001b[0;34m\u001b[0m\u001b[0;34m\u001b[0m\u001b[0m\n\u001b[0m\u001b[1;32m      7\u001b[0m \u001b[0mmin_value\u001b[0m \u001b[0;34m=\u001b[0m \u001b[0mmin\u001b[0m\u001b[0;34m(\u001b[0m\u001b[0ml\u001b[0m\u001b[0;34m)\u001b[0m\u001b[0;34m\u001b[0m\u001b[0;34m\u001b[0m\u001b[0m\n\u001b[1;32m      8\u001b[0m \u001b[0mk\u001b[0m\u001b[0;34m=\u001b[0m\u001b[0;34m[\u001b[0m\u001b[0;34m(\u001b[0m\u001b[0mi\u001b[0m\u001b[0;34m-\u001b[0m\u001b[0mmax_value\u001b[0m\u001b[0;34m)\u001b[0m\u001b[0;34m/\u001b[0m\u001b[0;34m(\u001b[0m\u001b[0mmax_value\u001b[0m\u001b[0;34m-\u001b[0m\u001b[0mmin_value\u001b[0m\u001b[0;34m)\u001b[0m \u001b[0;32mfor\u001b[0m \u001b[0mi\u001b[0m \u001b[0;32min\u001b[0m \u001b[0ml\u001b[0m\u001b[0;34m]\u001b[0m\u001b[0;34m\u001b[0m\u001b[0;34m\u001b[0m\u001b[0m\n",
            "\u001b[0;31mTypeError\u001b[0m: 'int' object is not callable"
          ]
        }
      ]
    },
    {
      "cell_type": "markdown",
      "source": [
        "MUTABLE- These are the ones that can be changed after creating them.\n",
        "\n",
        "Example- list,dictionary\n",
        "\n",
        "You can add an element or subtract one. We can alter it after creation.\n",
        "\n",
        "\n",
        "IMMUTABLE- They cannot be changed after creating them.\n",
        "\n",
        "Example- tuples,strings"
      ],
      "metadata": {
        "id": "YpHVbwdW9vva"
      }
    },
    {
      "cell_type": "code",
      "source": [
        "n=int(input())\n",
        "f=[1,2]\n",
        "for i in range(1,n-1):\n",
        "  f.append(f[-1]+f[-2])\n",
        "print(f)\n",
        "import matplotlib.pyplot as plt\n",
        "plt.plot(f)\n",
        "plt.show()\n",
        "\n",
        "\n",
        "\n"
      ],
      "metadata": {
        "id": "tNVEh5ub-22t",
        "colab": {
          "base_uri": "https://localhost:8080/",
          "height": 465
        },
        "outputId": "227c3213-04d5-4f2f-ccd7-567e7703e4e3"
      },
      "execution_count": null,
      "outputs": [
        {
          "output_type": "stream",
          "name": "stdout",
          "text": [
            "5\n",
            "[1, 2, 3, 5, 8]\n"
          ]
        },
        {
          "output_type": "display_data",
          "data": {
            "text/plain": [
              "<Figure size 640x480 with 1 Axes>"
            ],
            "image/png": "[encoded data removed]"
          },
          "metadata": {}
        }
      ]
    },
    {
      "cell_type": "code",
      "source": [
        "n=[3, 5, 7, 9, 11, 13]\n",
        "n.insert(3,6)\n",
        "print(n)\n",
        "n.remove(7)\n",
        "print(n)\n",
        "a=n[::-1]\n",
        "print(a)\n",
        "z=sum(a)\n",
        "y=z/6\n",
        "print(y)\n",
        "x=len(a)\n",
        "p=a[int(x/2)-1]+a[int(x/2)]\n",
        "print(p/2)\n"
      ],
      "metadata": {
        "colab": {
          "base_uri": "https://localhost:8080/"
        },
        "id": "GdgbupvxLvaO",
        "outputId": "278f42d7-cabb-41c7-f17e-6d865c468748"
      },
      "execution_count": null,
      "outputs": [
        {
          "output_type": "stream",
          "name": "stdout",
          "text": [
            "[3, 5, 7, 6, 9, 11, 13]\n",
            "[3, 5, 6, 9, 11, 13]\n",
            "[13, 11, 9, 6, 5, 3]\n",
            "7.833333333333333\n",
            "7.5\n"
          ]
        }
      ]
    },
    {
      "cell_type": "code",
      "source": [
        "n=\"10,20,30,40\"\n",
        "a=n.split(\",\")\n",
        "b=[int(i) for i in a]\n",
        "print(b)\n",
        "print(sum(b)/len(b))\n",
        "print(max(b))\n",
        "print(min(b))\n",
        "import matplotlib.pyplot as plt\n",
        "plt.hist(b)\n",
        "plt.show()"
      ],
      "metadata": {
        "colab": {
          "base_uri": "https://localhost:8080/",
          "height": 499
        },
        "id": "ww-u6lJ0Q_Ih",
        "outputId": "8e59039e-fa41-4c77-9542-40188fa23500"
      },
      "execution_count": null,
      "outputs": [
        {
          "output_type": "stream",
          "name": "stdout",
          "text": [
            "[10, 20, 30, 40]\n",
            "25.0\n",
            "40\n",
            "10\n"
          ]
        },
        {
          "output_type": "display_data",
          "data": {
            "text/plain": [
              "<Figure size 640x480 with 1 Axes>"
            ],
            "image/png": "[encoded data removed]"
          },
          "metadata": {}
        }
      ]
    },
    {
      "cell_type": "code",
      "source": [
        "n=input()\n",
        "x=n.lower()\n",
        "a=x.replace(\" \",\"\")\n",
        "b=list(a)\n",
        "z=len(b)\n",
        "b.pop(0)\n",
        "b.pop(z-2)\n",
        "if b==b[::-1]:\n",
        "  print(\"TRUE\")\n",
        "else:\n",
        "  print(\"FALSE\")\n",
        "\n",
        "\n",
        "\n",
        "\n"
      ],
      "metadata": {
        "colab": {
          "base_uri": "https://localhost:8080/"
        },
        "id": "UZCgqUz3VIwv",
        "outputId": "08774467-00bc-4a7f-8fab-cd5e43ddee11"
      },
      "execution_count": null,
      "outputs": [
        {
          "output_type": "stream",
          "name": "stdout",
          "text": [
            "\"A man a plan a canal Panama\"\n",
            "TRUE\n"
          ]
        }
      ]
    },
    {
      "cell_type": "code",
      "source": [
        "a={\"z\":10,\"y\":20,\"x\":15,\"w\":18}\n",
        "b=a.values()\n",
        "c=sum(b)\n",
        "l=len(b)\n",
        "avg=c/l\n",
        "print(avg)\n",
        "for key,value in a.items():\n",
        "  if value>avg:\n",
        "    print(key)\n",
        "import matplotlib.pyplot as plt\n",
        "plt.bar(a.keys(),a.values())\n",
        "plt.show()"
      ],
      "metadata": {
        "id": "HyYxLDIDbUCG",
        "colab": {
          "base_uri": "https://localhost:8080/",
          "height": 482
        },
        "outputId": "2a032d03-801c-4aa0-d2e0-9a62aac54ac5"
      },
      "execution_count": null,
      "outputs": [
        {
          "output_type": "stream",
          "name": "stdout",
          "text": [
            "15.75\n",
            "y\n",
            "w\n"
          ]
        },
        {
          "output_type": "display_data",
          "data": {
            "text/plain": [
              "<Figure size 640x480 with 1 Axes>"
            ],
            "image/png": "[encoded data removed]"
          },
          "metadata": {}
        }
      ]
    },
    {
      "cell_type": "code",
      "source": [
        "n=list(range(1,11))\n",
        "a=[(x,x**2) for x in range(1,11)]\n",
        "x=[i[0] for i in a]\n",
        "y=[i[1] for i in a]\n",
        "import matplotlib.pyplot as plt\n",
        "plt.scatter(x,y)\n",
        "plt.show()"
      ],
      "metadata": {
        "colab": {
          "base_uri": "https://localhost:8080/",
          "height": 430
        },
        "id": "lcLJh0UX0Cz-",
        "outputId": "46cd8b7d-7551-469e-e1a9-088fcc24b3ac"
      },
      "execution_count": 58,
      "outputs": [
        {
          "output_type": "display_data",
          "data": {
            "text/plain": [
              "<Figure size 640x480 with 1 Axes>"
            ],
            "image/png": "[encoded data removed]"
          },
          "metadata": {}
        }
      ]
    },
    {
      "cell_type": "code",
      "source": [
        "dict1 = {'a': 10, 'b': 20}\n",
        "dict2 = {'b': 5, 'c': 15}\n",
        "for key in dict1:\n",
        "    if key in dict2:\n",
        "        dict1[i]=dict1[i]+dict2[i]\n",
        "        dict2.pop(i)\n",
        "dict1.update(dict2)\n",
        "print(dict1)"
      ],
      "metadata": {
        "colab": {
          "base_uri": "https://localhost:8080/"
        },
        "id": "XOi7UABj7xch",
        "outputId": "242bae09-6904-4ad3-faa9-d361b32f1d3d"
      },
      "execution_count": null,
      "outputs": [
        {
          "output_type": "stream",
          "name": "stdout",
          "text": [
            "{'a': 10, 'b': 25, 'c': 15}\n"
          ]
        }
      ]
    },
    {
      "cell_type": "code",
      "source": [
        "import matplotlib.pyplot as plt\n",
        "a=\"Write a function that accepts a string and\"\n",
        "n=a.lower()\n",
        "f={}\n",
        "for i in n:\n",
        "  if i in f:\n",
        "    f[i]=f[i]+1\n",
        "  else:\n",
        "    f[i]=1\n",
        "plt.bar(f.keys(),f.values())\n",
        "plt.show()\n",
        ""
      ],
      "metadata": {
        "colab": {
          "base_uri": "https://localhost:8080/",
          "height": 430
        },
        "id": "OkRq1gi002Rq",
        "outputId": "c893a193-a1f8-4eb0-954f-24bfa7ab1e6c"
      },
      "execution_count": 59,
      "outputs": [
        {
          "output_type": "display_data",
          "data": {
            "text/plain": [
              "<Figure size 640x480 with 1 Axes>"
            ],
            "image/png": "[encoded data removed]"
          },
          "metadata": {}
        }
      ]
    },
    {
      "cell_type": "code",
      "source": [
        "n=input()\n",
        "a=list(n.split(\",\"))\n",
        "a.pop(len(a)-1)\n",
        "a.pop(0)\n",
        "d=len(a)\n",
        "for i in range(d-1):\n",
        "  for j in range(d-2):\n",
        "    if a[i]==a[j+1] and i!=j+1:\n",
        "      a.pop(j+1)\n",
        "      d=d-1\n",
        "x=[int(i) for i in a]\n",
        "b=sum(x)\n",
        "c=len(x)\n",
        "mean=b/c\n",
        "print(mean)\n",
        "if len(a)%2==0:\n",
        "  median=(x[int(len(x)/2)]+x[int(len(x)/2)-1])/2\n",
        "else:\n",
        "  median=x[int(len(x)/2)]\n",
        "print(median)"
      ],
      "metadata": {
        "colab": {
          "base_uri": "https://localhost:8080/"
        },
        "id": "GvcIrga4BNyi",
        "outputId": "e15618bb-d1ff-42e9-bdff-7dfef3aaa28a"
      },
      "execution_count": null,
      "outputs": [
        {
          "output_type": "stream",
          "name": "stdout",
          "text": [
            "\"10,12,14,10,11,12\"\n",
            "11.75\n",
            "12.0\n"
          ]
        }
      ]
    },
    {
      "cell_type": "code",
      "source": [
        "n=input()\n",
        "vowels=[\"a\",\"e\",\"i\",\"o\",\"u\",\"A\",\"E\",\"I\",\"O\",\"U\"]\n",
        "c=0\n",
        "for i in range(len(n)):\n",
        "  if n[i] in vowels:\n",
        "    c=c+1\n",
        "print(c)\n",
        "f=n.split(\" \")\n",
        "a=list(f)\n",
        "b=[]\n",
        "c=1\n",
        "for i in range(len(a)):\n",
        "  x=len(a[i])\n",
        "  b.append(x)\n",
        "print(max(b))\n",
        "for i in range(len(a)-1):\n",
        "  a[i].replace(\"\",\",\")\n",
        "  if a[i][0] in vowels:\n",
        "    c=c+1\n",
        "print(c)\n",
        "print(b)\n",
        "print(a)\n",
        "import matplotlib.pyplot as plt\n",
        "plt.hist(b,edgecolor=\"black\")\n",
        "plt.xlabel(\"length of words\")\n",
        "plt.ylabel(\"frequency\")\n",
        "plt.show()\n",
        "\n",
        "\n"
      ],
      "metadata": {
        "colab": {
          "base_uri": "https://localhost:8080/",
          "height": 553
        },
        "id": "C7HMKkbqKM8S",
        "outputId": "4f9080e2-81ce-48f7-d377-3ce8b0ae5e6f"
      },
      "execution_count": null,
      "outputs": [
        {
          "output_type": "stream",
          "name": "stdout",
          "text": [
            "\"Given a list of strings, write a Python function to\"\n",
            "14\n",
            "8\n",
            "4\n",
            "[6, 1, 4, 2, 8, 5, 1, 6, 8, 3]\n",
            "['\"Given', 'a', 'list', 'of', 'strings,', 'write', 'a', 'Python', 'function', 'to\"']\n"
          ]
        },
        {
          "output_type": "display_data",
          "data": {
            "text/plain": [
              "<Figure size 640x480 with 1 Axes>"
            ],
            "image/png": "[encoded data removed]"
          },
          "metadata": {}
        }
      ]
    },
    {
      "cell_type": "code",
      "source": [
        "n=[{'name': 'Alice', 'age': 25}, {'name': 'Bob', 'age': 22}]\n",
        "a=sorted(n,key=lambda n:n[\"age\"])\n",
        "print(a)\n",
        "\n"
      ],
      "metadata": {
        "colab": {
          "base_uri": "https://localhost:8080/"
        },
        "id": "0-_0H4Yjss6y",
        "outputId": "9ea4bf84-ec5c-4771-ee47-8dc393cb67f4"
      },
      "execution_count": null,
      "outputs": [
        {
          "output_type": "stream",
          "name": "stdout",
          "text": [
            "[{'name': 'Bob', 'age': 22}, {'name': 'Alice', 'age': 25}]\n"
          ]
        }
      ]
    },
    {
      "cell_type": "code",
      "source": [
        "n=input()\n",
        "x=n.replace(\",\",\"\")\n",
        "a=n.replace('.','')\n",
        "b=a.split(\" \")\n",
        "c=[]\n",
        "d=[]\n",
        "for i in range(len(b)):\n",
        "  if len(b[i])>=4:\n",
        "    c.append(b[i])\n",
        "c.sort()\n",
        "for j in range(len(c)):\n",
        "  d.append(len(c[j]))\n",
        "print(c)\n",
        "print(d)\n",
        "import matplotlib.pyplot as plt\n",
        "plt.bar(c,d)\n",
        "plt.show()\n",
        "\n",
        "\n",
        "\n"
      ],
      "metadata": {
        "colab": {
          "base_uri": "https://localhost:8080/",
          "height": 502
        },
        "id": "K5D2WiOixAK7",
        "outputId": "ecef5062-dd1a-4581-99d4-d5d6aff352b7"
      },
      "execution_count": null,
      "outputs": [
        {
          "output_type": "stream",
          "name": "stdout",
          "text": [
            "Split a string into a list of words. Remove all words that are shorter than 4 characters. Sort the remaining words alphabetically. Visualize the word lengths using a bar chart\n",
            "['Remove', 'Sort', 'Split', 'Visualize', 'alphabetically', 'characters', 'chart', 'into', 'lengths', 'list', 'remaining', 'shorter', 'string', 'than', 'that', 'using', 'word', 'words', 'words', 'words']\n",
            "[6, 4, 5, 9, 14, 10, 5, 4, 7, 4, 9, 7, 6, 4, 4, 5, 4, 5, 5, 5]\n"
          ]
        },
        {
          "output_type": "display_data",
          "data": {
            "text/plain": [
              "<Figure size 640x480 with 1 Axes>"
            ],
            "image/png": "[encoded data removed]"
          },
          "metadata": {}
        }
      ]
    },
    {
      "cell_type": "code",
      "source": [
        "word = \"listen\"\n",
        "words = [\"enlist\", \"google\", \"inlets\", \"banana\"]\n",
        "a=[]\n",
        "b=sorted(word)\n",
        "c=[]\n",
        "for i in range(len(words)):\n",
        "  k=sorted(words[i])\n",
        "  a.append(k)\n",
        "for i in range(len(a)):\n",
        "  if a[i]==b:\n",
        "    c.append(words[i])\n",
        "print(c)\n",
        "\n",
        "\n",
        "\n"
      ],
      "metadata": {
        "colab": {
          "base_uri": "https://localhost:8080/"
        },
        "id": "H5yB6BCfTFMX",
        "outputId": "e4887397-df27-4b50-d026-c7562143512b"
      },
      "execution_count": null,
      "outputs": [
        {
          "output_type": "stream",
          "name": "stdout",
          "text": [
            "['enlist', 'inlets']\n"
          ]
        }
      ]
    },
    {
      "cell_type": "code",
      "source": [
        "a=input()\n",
        "b=input()\n",
        "c=set(list(a.split(\",\")))\n",
        "d=set(list(b.split(\",\")))\n",
        "i=c.intersection(d)\n",
        "u=c.union(d)\n",
        "s=c.symmetric_difference(d)\n",
        "print(i)\n",
        "print(u)\n",
        "print(s)\n",
        "import matplotlib.pyplot as plt\n",
        "from matplotlib_venn import venn2\n",
        "plt.figure(figsize=(5,5))\n",
        "x=venn2([c,d])\n",
        "x.get_label_by_id('100').set_text(i)\n",
        "plt.show()\n",
        "plt.figure(figsize=(5, 5))\n",
        "y=venn2([c,d])\n",
        "y.get_label_by_id('100').set_text(u)\n",
        "plt.show()\n",
        "plt.figure(figsize=(5, 5))\n",
        "z=venn2([c,d])\n",
        "z.get_label_by_id('100').set_text(s)\n",
        "plt.show()\n",
        "\n"
      ],
      "metadata": {
        "colab": {
          "base_uri": "https://localhost:8080/",
          "height": 1000
        },
        "id": "TFA_pf3rW5IO",
        "outputId": "b7cb00b6-4a75-45c6-f046-6d9be637bdb1"
      },
      "execution_count": null,
      "outputs": [
        {
          "output_type": "stream",
          "name": "stdout",
          "text": [
            "1,2,3,4\n",
            "2,3,4,5\n",
            "{'3', '2', '4'}\n",
            "{'1', '2', '5', '3', '4'}\n",
            "{'1', '5'}\n"
          ]
        },
        {
          "output_type": "display_data",
          "data": {
            "text/plain": [
              "<Figure size 500x500 with 1 Axes>"
            ],
            "image/png": "[encoded data removed]"
          },
          "metadata": {}
        },
        {
          "output_type": "display_data",
          "data": {
            "text/plain": [
              "<Figure size 500x500 with 1 Axes>"
            ],
            "image/png": "[encoded data removed]"
          },
          "metadata": {}
        },
        {
          "output_type": "display_data",
          "data": {
            "text/plain": [
              "<Figure size 500x500 with 1 Axes>"
            ],
            "image/png": "[encoded data removed]"
          },
          "metadata": {}
        }
      ]
    },
    {
      "cell_type": "code",
      "source": [],
      "metadata": {
        "id": "QAOAmVOSb7fV"
      },
      "execution_count": null,
      "outputs": []
    },
    {
      "cell_type": "code",
      "source": [
        "n=[1,2,3,4,5]\n",
        "f=\"numbers\"\n",
        "a=0\n",
        "with open(\"numbers\",\"w\") as file:\n",
        "  for i in n:\n",
        "    file.write(str(i) + '\\n')\n",
        "with open(\"numbers\",\"r\") as file:\n",
        "  for j in file:\n",
        "    n=int(j.strip())\n",
        "    a=a+n\n",
        "print(a)\n"
      ],
      "metadata": {
        "id": "oOcjUvfWB-HC",
        "colab": {
          "base_uri": "https://localhost:8080/"
        },
        "outputId": "48a75b81-d4a5-4264-c1db-3cc43eaf9c5b"
      },
      "execution_count": null,
      "outputs": [
        {
          "output_type": "stream",
          "name": "stdout",
          "text": [
            "15\n"
          ]
        }
      ]
    },
    {
      "cell_type": "code",
      "source": [
        "from collections import Counter\n",
        "x=\"Read a file and count the number of words in it\"\n",
        "f=\"file.txt\"\n",
        "with open(f, 'w') as file:\n",
        " a=file.write(\"Read a file and file count the number of words in it\")\n",
        "with open(f, 'r') as file:\n",
        "  for i in file:\n",
        "    a=i.strip()\n",
        "b=a.lower().split()\n",
        "c=Counter(b)\n",
        "d=c.most_common(1)[0][0]\n",
        "print(d)\n",
        "\n"
      ],
      "metadata": {
        "colab": {
          "base_uri": "https://localhost:8080/"
        },
        "id": "Re5sQdiC3Kka",
        "outputId": "a7e2bd11-cc5f-4755-84dc-b3641bea1017"
      },
      "execution_count": 67,
      "outputs": [
        {
          "output_type": "stream",
          "name": "stdout",
          "text": [
            "file\n"
          ]
        }
      ]
    },
    {
      "cell_type": "code",
      "source": [
        "import numpy as np\n",
        "a=np.random.randint(0,101,10)\n",
        "print(a)\n",
        "m=np.mean(a)\n",
        "f=\"numbers.txt\"\n",
        "with open(f,\"w\") as file:\n",
        "  for j in a:\n",
        "    file.write(str(j) + '\\n')\n",
        "import matplotlib.pyplot as plt\n",
        "plt.hist(a,edgecolor=\"black\")\n",
        "plt.xlabel(\"n\")\n",
        "plt.ylabel(\"f\")\n",
        "plt.show()"
      ],
      "metadata": {
        "colab": {
          "base_uri": "https://localhost:8080/",
          "height": 466
        },
        "id": "fX-caUPTgU6K",
        "outputId": "9ac55eeb-6b0d-4701-fe19-e70cb5e943ad"
      },
      "execution_count": 60,
      "outputs": [
        {
          "output_type": "stream",
          "name": "stdout",
          "text": [
            "[74 30  6 63 76 91 92 72 56 64]\n"
          ]
        },
        {
          "output_type": "display_data",
          "data": {
            "text/plain": [
              "<Figure size 640x480 with 1 Axes>"
            ],
            "image/png": "[encoded data removed]"
          },
          "metadata": {}
        }
      ]
    },
    {
      "cell_type": "code",
      "source": [
        "n=input()\n",
        "a=list(n.split(\",\"))\n",
        "b=[int(a[i]) for i in range(len(a))]\n",
        "m=sum(b)/len(b)\n",
        "print(m)\n",
        "c=sorted(b)\n",
        "if len(b)%2==0:\n",
        "  M=(c[int(len(c)/2)]+c[int(len(c)/2)-1])/2\n",
        "else:\n",
        "  M=c[int(len(c)/2)]\n",
        "print(M)\n",
        "import matplotlib.pyplot as plt\n",
        "plt.boxplot(b)\n",
        "plt.show()"
      ],
      "metadata": {
        "colab": {
          "base_uri": "https://localhost:8080/",
          "height": 482
        },
        "id": "_GWHZMQ8khFE",
        "outputId": "5ff03c5c-1f68-4f92-ea54-751a7e85da0c"
      },
      "execution_count": null,
      "outputs": [
        {
          "output_type": "stream",
          "name": "stdout",
          "text": [
            "1,2,3,4,5,6,7,8,9,10\n",
            "5.5\n",
            "5.5\n"
          ]
        },
        {
          "output_type": "display_data",
          "data": {
            "text/plain": [
              "<Figure size 640x480 with 1 Axes>"
            ],
            "image/png": "[encoded data removed]"
          },
          "metadata": {}
        }
      ]
    },
    {
      "cell_type": "code",
      "source": [
        "n=int(input())\n",
        "if n%2==0:\n",
        "  print(n,\"is even\")\n",
        "else:\n",
        "  print(n,\"is odd\")"
      ],
      "metadata": {
        "colab": {
          "base_uri": "https://localhost:8080/"
        },
        "id": "R9rmvHmPDzDa",
        "outputId": "267b6966-fbee-48bc-b318-b271c98b8767"
      },
      "execution_count": null,
      "outputs": [
        {
          "output_type": "stream",
          "name": "stdout",
          "text": [
            "50\n",
            "50 is even\n"
          ]
        }
      ]
    },
    {
      "cell_type": "code",
      "source": [
        "n=int(input())\n",
        "if 90<=n<=100:\n",
        "  print(\"A\")\n",
        "elif 80<=n<=89:\n",
        "  print(\"B\")\n",
        "elif 70<=n<=79:\n",
        "  print(\"C\")\n",
        "elif 60<=n<=69:\n",
        "  print(\"D\")\n",
        "else:\n",
        "  print(\"F\")\n"
      ],
      "metadata": {
        "colab": {
          "base_uri": "https://localhost:8080/"
        },
        "id": "f4wp1BH4BxF4",
        "outputId": "4259b84e-3363-4b3a-f0d2-e60943bfde38"
      },
      "execution_count": null,
      "outputs": [
        {
          "output_type": "stream",
          "name": "stdout",
          "text": [
            "60\n",
            "D\n"
          ]
        }
      ]
    },
    {
      "cell_type": "code",
      "source": [
        "n=int(input())\n",
        "if n%4==0:\n",
        "  print(n,\" is a leap year\")\n",
        "else:\n",
        "  print(n,\" is not a leap year\")\n",
        "\n",
        "\n",
        "\n"
      ],
      "metadata": {
        "colab": {
          "base_uri": "https://localhost:8080/"
        },
        "id": "i9qDj4Pm9d7d",
        "outputId": "d911250e-7817-415d-a0a0-d120551af0fb"
      },
      "execution_count": null,
      "outputs": [
        {
          "output_type": "stream",
          "name": "stdout",
          "text": [
            "2024\n",
            "2024  is a leap year\n"
          ]
        }
      ]
    }
  ]
}